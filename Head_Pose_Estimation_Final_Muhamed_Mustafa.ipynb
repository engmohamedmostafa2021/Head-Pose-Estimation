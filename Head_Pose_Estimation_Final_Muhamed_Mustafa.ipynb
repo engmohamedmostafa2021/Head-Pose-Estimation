{
  "cells": [
    {
      "cell_type": "markdown",
      "metadata": {
        "id": "BiexosZCsnvD"
      },
      "source": [
        "## Muhamed Mustafa Muhamed ALi - AI - G2\n",
        "### Machine Learning I - ( Project - Head Pose Estimation )\n"
      ]
    },
    {
      "cell_type": "markdown",
      "metadata": {
        "id": "LsCS8ckGAua6"
      },
      "source": [
        "### Installing MediaPipe"
      ]
    },
    {
      "cell_type": "code",
      "execution_count": null,
      "metadata": {
        "id": "AfVHCj5VAkky"
      },
      "outputs": [],
      "source": [
        "%%capture\n",
        "!pip install mediapipe"
      ]
    },
    {
      "cell_type": "markdown",
      "metadata": {
        "id": "KNdGPfI2A0vD"
      },
      "source": [
        "### Required Libraries"
      ]
    },
    {
      "cell_type": "code",
      "execution_count": null,
      "metadata": {
        "id": "JMD9H2caAyos"
      },
      "outputs": [],
      "source": [
        "import numpy as np\n",
        "import os,cv2,math,glob,random\n",
        "import scipy.io as sio\n",
        "from math import cos, sin\n",
        "from pathlib import Path\n",
        "import pandas as pd\n",
        "import mediapipe\n",
        "import warnings\n",
        "warnings.filterwarnings('ignore')\n",
        "from google.colab.patches import cv2_imshow\n",
        "from sklearn.model_selection import train_test_split ,GridSearchCV\n",
        "from sklearn.svm import SVR\n",
        "from xgboost import XGBRegressor\n",
        "from sklearn.metrics import mean_absolute_error\n",
        "np.random.seed(0)"
      ]
    },
    {
      "cell_type": "markdown",
      "metadata": {
        "id": "URajmtX-BADF"
      },
      "source": [
        "### Dowlining Data"
      ]
    },
    {
      "cell_type": "code",
      "execution_count": null,
      "metadata": {
        "id": "6fxYX4bXGvr0"
      },
      "outputs": [],
      "source": [
        "# link of the data\n",
        "# http://www.cbsr.ia.ac.cn/users/xiangyuzhu/projects/3DDFA/Database/AFLW2000-3D.zip"
      ]
    },
    {
      "cell_type": "code",
      "execution_count": null,
      "metadata": {
        "id": "1kExMsUfA9in"
      },
      "outputs": [],
      "source": [
        "# Loading AFLW2000 Data\n",
        "%%capture\n",
        "if os.path.isfile('/content/AFLW2000-3D.zip') == False:\n",
        "  !gdown --id  1fP3zvSCYjll_o_m7S12nvQLZ9MnsEoap\n",
        "  !unzip /content/AFLW2000-3D.zip"
      ]
    },
    {
      "cell_type": "markdown",
      "metadata": {
        "id": "2YIhbOk7bDUF"
      },
      "source": [
        "### Looping on Images"
      ]
    },
    {
      "cell_type": "code",
      "execution_count": null,
      "metadata": {
        "colab": {
          "base_uri": "https://localhost:8080/"
        },
        "id": "Wc85uKqfFhbp",
        "outputId": "97c1ac11-2ba5-439e-caed-45048d210767"
      },
      "outputs": [
        {
          "output_type": "stream",
          "name": "stdout",
          "text": [
            "(1853, 468)\n",
            "(1853, 468)\n",
            "(1853,)\n",
            "(1853,)\n",
            "(1853,)\n"
          ]
        }
      ],
      "source": [
        "x_array1 = []\n",
        "y_array1 = []\n",
        "pitch_array1 = []\n",
        "yaw_array1 = []\n",
        "roll_array1 = []\n",
        "i=0\n",
        "\n",
        "# extracting the file names (2000 name)\n",
        "file_names = sorted([Path(f).stem for f in glob.glob(\"/content/AFLW2000/*.mat\")])\n",
        "# detecting faces and extracting the points\n",
        "faceModule = mediapipe.solutions.face_mesh\n",
        "\n",
        "# looping over the file names to load the images and their corresponding mat file\n",
        "for file in file_names:\n",
        "  # i+=1\n",
        "  # if i < 100:\n",
        "        # loading image and its correspinding mat file\n",
        "        with faceModule.FaceMesh(static_image_mode=True) as faces:\n",
        "            # loading the image\n",
        "            image = cv2.imread('/content/AFLW2000/'+file+'.jpg')\n",
        "            # processing the face to extract the landmark points (468 point) for each x,y,z\n",
        "            results = faces.process(cv2.cvtColor(image, cv2.COLOR_BGR2RGB))\n",
        "            if results.multi_face_landmarks != None: \n",
        "              # looping over the faces in the image\n",
        "              for face in results.multi_face_landmarks:\n",
        "                  # initializing two lists to store the points for every face.\n",
        "                  x_arrsmall1 =[]\n",
        "                  y_arrsmall1 =[]\n",
        "                  # looping over the 468 points of x and y\n",
        "                  for landmark in face.landmark:\n",
        "                      x = landmark.x\n",
        "                      y = landmark.y\n",
        "                      # note: the x and y values are scaled to the their width and height so we will get back their actual value in the image\n",
        "                      shape = image.shape \n",
        "                      relative_x = int(x * shape[1])\n",
        "                      relative_y = int(y * shape[0])\n",
        "                      #Xs of every face\n",
        "                      x_arrsmall1.append(relative_x)\n",
        "                      #Ys of every face\n",
        "                      y_arrsmall1.append(relative_y)\n",
        "                  # converting the lists to numpy arrays\n",
        "                  x_arrsmall = np.array(x_arrsmall1)\n",
        "                  y_arrsmall = np.array(y_arrsmall1)\n",
        "                  # appending the points of every face in the list of all image points\n",
        "                  x_array1.append(x_arrsmall)\n",
        "                  y_array1.append(y_arrsmall)\n",
        "                  # converting the lists to numpy arrays\n",
        "                  x_array = np.array(x_array1)\n",
        "                  y_array = np.array(y_array1)\n",
        "\n",
        "                  #cv2.putText(image, str(relative_y), (int(relative_x),int(relative_y)), cv2.FONT_HERSHEY_SIMPLEX, 0.25, (0,255,0), 2)\n",
        "                  #cv2.circle(image, (relative_x, relative_y), radius=1, color=(0, 255, 0), thickness=2)\n",
        "                  # cv2_imshow(image)\n",
        "\n",
        "                  # loading the mat file to extract the labels (pitch,yaw,roll)\n",
        "                  mat_file = sio.loadmat('/content/AFLW2000/'+file+'.mat')\n",
        "                  # extracting the labels 3 angels\n",
        "                  pose_para = mat_file[\"Pose_Para\"][0][:3]\n",
        "                  # the first label (pitch)\n",
        "                  pitch = pose_para[0]\n",
        "                  # the second label (yaw)\n",
        "                  yaw = pose_para[1]\n",
        "                  # the third label (roll)\n",
        "                  roll = pose_para[2]\n",
        "                  # appending the angle of every face in 3 lists\n",
        "                  pitch_array1.append(pitch)\n",
        "                  yaw_array1.append(yaw)\n",
        "                  roll_array1.append(roll)\n",
        "        # converting the lists to numpy arrays\n",
        "        pitch_array = np.array(pitch_array1)\n",
        "        yaw_array = np.array(yaw_array1)\n",
        "        roll_array = np.array(roll_array1)\n",
        "\n",
        "        #cv2_imshow(draw_axis(image,pitch,yaw,roll))\n",
        "     \n",
        "print(x_array.shape)\n",
        "print(y_array.shape)\n",
        "print(pitch_array.shape)\n",
        "print(yaw_array.shape)\n",
        "print(roll_array.shape)"
      ]
    },
    {
      "cell_type": "markdown",
      "metadata": {
        "id": "kmcB7f43zaZf"
      },
      "source": [
        "###Preprocessing the data\n"
      ]
    },
    {
      "cell_type": "code",
      "execution_count": null,
      "metadata": {
        "colab": {
          "base_uri": "https://localhost:8080/"
        },
        "id": "LK3hMuHfzYSi",
        "outputId": "af702407-665e-4c2a-89a4-025ee64d70d7"
      },
      "outputs": [
        {
          "output_type": "stream",
          "name": "stdout",
          "text": [
            "(1853, 468)\n",
            "(1853, 468)\n",
            "(1853, 936)\n"
          ]
        }
      ],
      "source": [
        "# center 99\n",
        "# Top of Head = 10\n",
        "# Bottom of Head = 171\n",
        "\n",
        "# centering the data arround the 99th point \n",
        "x_center = x_array - x_array[:,99].reshape(-1,1)\n",
        "y_center = y_array - y_array[:,99].reshape(-1,1)\n",
        "\n",
        "# normalizing the data to be in the same scale by dividing over the distance between point 10 and point 171\n",
        "x_171 = x_array[:,171]\n",
        "x_10 = x_array[:,10]\n",
        "y_171 = y_array[:,171]\n",
        "y_10 = y_array[:,10]\n",
        "\n",
        "# computing the distance\n",
        "distance = np.linalg.norm(np.array((x_10,y_10)) - np.array((x_171,y_171)),axis = 0).reshape(-1,1)\n",
        "x_norm = x_center / distance\n",
        "y_norm = y_center / distance\n",
        "\n",
        "print(x_norm.shape)\n",
        "print(y_norm.shape)\n",
        "\n",
        "# concatinating the X and Y points to form the compelete features\n",
        "features = np.hstack([x_norm,y_norm])\n",
        "\n",
        "print(features.shape)"
      ]
    },
    {
      "cell_type": "code",
      "execution_count": null,
      "metadata": {
        "colab": {
          "base_uri": "https://localhost:8080/"
        },
        "id": "T0G5R3aTkZXl",
        "outputId": "a3506e0d-897f-4487-b4a1-07e9eea09100"
      },
      "outputs": [
        {
          "output_type": "stream",
          "name": "stdout",
          "text": [
            "(1853, 936)\n",
            "(1853, 937)\n",
            "(1853, 937)\n",
            "(1853, 937)\n",
            "(1853, 3)\n"
          ]
        }
      ],
      "source": [
        "# concatenating the Xs and Ys to features array\n",
        "features = np.hstack((x_norm,y_norm))\n",
        "print(features.shape)\n",
        "\n",
        "# concatenating the features and pitch angel to dataset_pitch array\n",
        "dataset_pitch = np.hstack((features,pitch_array.reshape(-1,1)))\n",
        "print(dataset_pitch.shape)\n",
        "\n",
        "# concatenating the features and yaw angel to dataset_yaw array\n",
        "dataset_yaw = np.hstack((features,yaw_array.reshape(-1,1)))\n",
        "print(dataset_yaw.shape)\n",
        "\n",
        "# concatenating the features and roll angel to dataset_roll array\n",
        "dataset_roll = np.hstack((features,roll_array.reshape(-1,1)))\n",
        "print(dataset_roll.shape)\n",
        "\n",
        "# concatenating the 3 angels to labels array\n",
        "labels = np.hstack((pitch_array.reshape(-1,1),yaw_array.reshape(-1,1),roll_array.reshape(-1,1)))\n",
        "print(labels.shape)"
      ]
    },
    {
      "cell_type": "code",
      "execution_count": null,
      "metadata": {
        "id": "WBCStfLZ-lL6"
      },
      "outputs": [],
      "source": [
        "# Split data to 2 parts train(70%) and validation(30%)\n",
        "x_train, x_vali, y_train, y_vali = train_test_split(features, labels, test_size=0.3, random_state=0)"
      ]
    },
    {
      "cell_type": "markdown",
      "metadata": {
        "id": "hjpW9YYDNM-v"
      },
      "source": [
        "###XGBoost Model\n"
      ]
    },
    {
      "cell_type": "code",
      "execution_count": null,
      "metadata": {
        "colab": {
          "base_uri": "https://localhost:8080/"
        },
        "id": "2A7Mx6xB_FtN",
        "outputId": "6c9440f1-ca66-4e13-e11e-79c8c1154e87"
      },
      "outputs": [
        {
          "output_type": "stream",
          "name": "stdout",
          "text": [
            "XGB Best Estimator of Pitch angle : XGBRegressor(learning_rate=0.4, max_depth=1, n_estimators=5, verbosity=0)\n",
            "XGB Train Error of Pitch angle : 0.17542730594175396\n",
            "XGB Train Validation of Pitch angle : 0.21761405290047997\n"
          ]
        }
      ],
      "source": [
        "#First Model for Pitch angle\n",
        "xg_param = {'n_estimators': np.arange(5,9,2),'max_depth': np.arange(1,7,2),'learning_rate': np.arange(0.4,0.8,0.2)}\n",
        "m_xgb_pitch = XGBRegressor(random_state=0,verbosity=0)\n",
        "m_gs_xgb_pitch = GridSearchCV(m_xgb_pitch,xg_param)\n",
        "m_gs_xgb_pitch.fit(x_train,y_train[:,0])\n",
        "m_gs_xgb_pitch_be = m_gs_xgb_pitch.best_estimator_\n",
        "y_xgb_train_pitch = m_gs_xgb_pitch_be.predict(x_train)\n",
        "y_xgb_pred_pitch = m_gs_xgb_pitch_be.predict(x_vali)\n",
        "\n",
        "print(f\"XGB Best Estimator of Pitch angle : {m_gs_xgb_pitch_be}\")\n",
        "print(f\"XGB Train Error of Pitch angle : {mean_absolute_error(y_train[:,0],y_xgb_train_pitch)}\")\n",
        "print(f\"XGB Train Validation of Pitch angle : {mean_absolute_error(y_vali[:,0],y_xgb_pred_pitch)}\")"
      ]
    },
    {
      "cell_type": "code",
      "execution_count": null,
      "metadata": {
        "colab": {
          "base_uri": "https://localhost:8080/"
        },
        "id": "DGSf-s3u5Ay1",
        "outputId": "974c70c0-dd0c-4501-9184-1a6093e19344"
      },
      "outputs": [
        {
          "output_type": "stream",
          "name": "stdout",
          "text": [
            "XGB Best Estimator of yaw angle : XGBRegressor(learning_rate=0.4, n_estimators=5, verbosity=0)\n",
            "XGB Train Error of yaw angle : 0.09030937820623802\n",
            "XGB Train Validation of yaw angle : 0.10970036615825517\n"
          ]
        }
      ],
      "source": [
        "#Second Model for Yaw angle\n",
        "xg_param = {'n_estimators': np.arange(5,9,2),'max_depth': np.arange(1,7,2),'learning_rate': np.arange(0.4,0.8,0.2)}\n",
        "m_xgb_yaw = XGBRegressor(random_state=0,verbosity=0)\n",
        "m_gs_xgb_yaw = GridSearchCV(m_xgb_yaw,xg_param)\n",
        "m_gs_xgb_yaw.fit(x_train,y_train[:,1])\n",
        "m_gs_xgb_yaw_be = m_gs_xgb_yaw.best_estimator_\n",
        "y_xgb_train_yaw = m_gs_xgb_yaw_be.predict(x_train)\n",
        "y_xgb_pred_yaw = m_gs_xgb_yaw_be.predict(x_vali)\n",
        "\n",
        "print(f\"XGB Best Estimator of yaw angle : {m_gs_xgb_yaw_be}\")\n",
        "print(f\"XGB Train Error of yaw angle : {mean_absolute_error(y_train[:,1],y_xgb_train_yaw)}\")\n",
        "print(f\"XGB Train Validation of yaw angle : {mean_absolute_error(y_vali[:,1],y_xgb_pred_yaw)}\")"
      ]
    },
    {
      "cell_type": "code",
      "execution_count": null,
      "metadata": {
        "colab": {
          "base_uri": "https://localhost:8080/"
        },
        "id": "Iii3wLI55BTX",
        "outputId": "f425c166-891a-4ded-bc95-cce5fe953e4a"
      },
      "outputs": [
        {
          "output_type": "stream",
          "name": "stdout",
          "text": [
            "XGB Best Estimator of roll angle : XGBRegressor(learning_rate=0.4, max_depth=1, n_estimators=5, verbosity=0)\n",
            "XGB Train Error of roll angle : 0.1578062501253068\n",
            "XGB Train Validation of roll angle : 0.20046654598632213\n"
          ]
        }
      ],
      "source": [
        "#Third Model for Roll angle\n",
        "xg_param = {'n_estimators': np.arange(5,9,2),'max_depth': np.arange(1,7,2),'learning_rate': np.arange(0.4,0.8,0.2)}\n",
        "m_xgb_roll = XGBRegressor(random_state=0,verbosity=0)\n",
        "m_gs_xgb_roll = GridSearchCV(m_xgb_roll,xg_param)\n",
        "m_gs_xgb_roll.fit(x_train,y_train[:,2])\n",
        "m_gs_xgb_roll_be = m_gs_xgb_roll.best_estimator_\n",
        "y_xgb_train_roll = m_gs_xgb_roll_be.predict(x_train)\n",
        "y_xgb_pred_roll = m_gs_xgb_roll_be.predict(x_vali)\n",
        "\n",
        "print(f\"XGB Best Estimator of roll angle : {m_gs_xgb_roll_be}\")\n",
        "print(f\"XGB Train Error of roll angle : {mean_absolute_error(y_train[:,2],y_xgb_train_roll)}\")\n",
        "print(f\"XGB Train Validation of roll angle : {mean_absolute_error(y_vali[:,2],y_xgb_pred_roll)}\")"
      ]
    },
    {
      "cell_type": "markdown",
      "metadata": {
        "id": "nP0MdZfTBHZl"
      },
      "source": [
        "###SVR Model\n"
      ]
    },
    {
      "cell_type": "code",
      "execution_count": null,
      "metadata": {
        "colab": {
          "base_uri": "https://localhost:8080/"
        },
        "id": "u-ZEcLhlBGvW",
        "outputId": "72fccd42-d3f8-4d9f-d0e0-1e594d286349"
      },
      "outputs": [
        {
          "output_type": "stream",
          "name": "stdout",
          "text": [
            "SVR Best Estimator of Pitch angle : SVR(C=10, kernel='poly')\n",
            "SVR Train Error of Pitch angle : 0.08918386914382061\n",
            "SVR Train Validation of Pitch angle : 0.11729235552544014\n"
          ]
        }
      ],
      "source": [
        "#First Model for Pitch angle\n",
        "svr_param = {'kernel':['linear', 'poly', 'rbf', 'sigmoid'],'C':[0.01,0.1,1,10,100]}\n",
        "m_svr_pitch = SVR()\n",
        "m_gs_svr_pitch = GridSearchCV(m_svr_pitch,svr_param)\n",
        "m_gs_svr_pitch.fit(x_train,y_train[:,0])\n",
        "m_gs_svr_pitch_be = m_gs_svr_pitch.best_estimator_\n",
        "y_svr_train_pitch = m_gs_svr_pitch_be.predict(x_train)\n",
        "y_svr_pred_pitch = m_gs_svr_pitch_be.predict(x_vali)\n",
        "\n",
        "print(f\"SVR Best Estimator of Pitch angle : {m_gs_svr_pitch_be}\")\n",
        "print(f\"SVR Train Error of Pitch angle : {mean_absolute_error(y_train[:,0],y_svr_train_pitch)}\")\n",
        "print(f\"SVR Train Validation of Pitch angle : {mean_absolute_error(y_vali[:,0],y_svr_pred_pitch)}\")"
      ]
    },
    {
      "cell_type": "code",
      "execution_count": null,
      "metadata": {
        "colab": {
          "base_uri": "https://localhost:8080/"
        },
        "id": "LUM-ko98BQUT",
        "outputId": "c5999b8b-1d38-4100-b0c6-279ecaf3c726"
      },
      "outputs": [
        {
          "output_type": "stream",
          "name": "stdout",
          "text": [
            "SVR Best Estimator of Yaw angle : SVR(C=10, kernel='linear')\n",
            "SVR Train Error of Yaw angle : 0.07125850531213963\n",
            "SVR Train Validation of Yaw angle : 0.0836141294596861\n"
          ]
        }
      ],
      "source": [
        "#Second Model for Yaw angle\n",
        "svr_param = {'kernel':['linear', 'poly', 'rbf', 'sigmoid'],'C':[0.01,0.1,1,10,100]}\n",
        "m_svr_yaw = SVR()\n",
        "m_gs_svr_yaw = GridSearchCV(m_svr_yaw,svr_param)\n",
        "m_gs_svr_yaw.fit(x_train,y_train[:,1])\n",
        "m_gs_svr_yaw_be = m_gs_svr_yaw.best_estimator_\n",
        "y_svr_train_yaw = m_gs_svr_yaw_be.predict(x_train)\n",
        "y_svr_pred_yaw = m_gs_svr_yaw_be.predict(x_vali)\n",
        "\n",
        "print(f\"SVR Best Estimator of Yaw angle : {m_gs_svr_yaw_be}\")\n",
        "print(f\"SVR Train Error of Yaw angle : {mean_absolute_error(y_train[:,1],y_svr_train_yaw)}\")\n",
        "print(f\"SVR Train Validation of Yaw angle : {mean_absolute_error(y_vali[:,1],y_svr_pred_yaw)}\")"
      ]
    },
    {
      "cell_type": "code",
      "execution_count": null,
      "metadata": {
        "colab": {
          "base_uri": "https://localhost:8080/"
        },
        "id": "cg0DlKQRBq57",
        "outputId": "bada911e-2566-4d2c-8b5b-1b1e2bd9c6f2"
      },
      "outputs": [
        {
          "output_type": "stream",
          "name": "stdout",
          "text": [
            "SVR Best Estimator of Roll angle : SVR(C=10)\n",
            "SVR Train Error of Roll angle : 0.06794661426393996\n",
            "SVR Train Validation of Roll angle : 0.09095004229873897\n"
          ]
        }
      ],
      "source": [
        "#Third Model for Roll angle\n",
        "svr_param = {'kernel':['linear', 'poly', 'rbf', 'sigmoid'],'C':[0.01,0.1,1,10,100]}\n",
        "m_svr_roll = SVR()\n",
        "m_gs_svr_roll = GridSearchCV(m_svr_roll,svr_param)\n",
        "m_gs_svr_roll.fit(x_train,y_train[:,2])\n",
        "m_gs_svr_roll_be = m_gs_svr_roll.best_estimator_\n",
        "y_svr_train_roll = m_gs_svr_roll_be.predict(x_train)\n",
        "y_svr_pred_roll = m_gs_svr_roll_be.predict(x_vali)\n",
        "\n",
        "print(f\"SVR Best Estimator of Roll angle : {m_gs_svr_roll_be}\")\n",
        "print(f\"SVR Train Error of Roll angle : {mean_absolute_error(y_train[:,2],y_svr_train_roll)}\")\n",
        "print(f\"SVR Train Validation of Roll angle : {mean_absolute_error(y_vali[:,2],y_svr_pred_roll)}\")"
      ]
    },
    {
      "cell_type": "markdown",
      "metadata": {
        "id": "Iwh-sMnnHZ1_"
      },
      "source": [
        "### Function for Drawing 3 Axis"
      ]
    },
    {
      "cell_type": "code",
      "execution_count": null,
      "metadata": {
        "id": "9IixVbEwGdzz"
      },
      "outputs": [],
      "source": [
        "def draw_axis(img, pitch,yaw,roll, tdx=None, tdy=None, size = 100):\n",
        "\n",
        "    yaw = -yaw\n",
        "    if tdx != None and tdy != None:\n",
        "        tdx = tdx\n",
        "        tdy = tdy\n",
        "    else:\n",
        "        height, width = img.shape[:2]\n",
        "        tdx = width / 2\n",
        "        tdy = height / 2\n",
        "\n",
        "    # X-Axis pointing to right. drawn in red\n",
        "    x1 = size * (cos(yaw) * cos(roll)) + tdx\n",
        "    y1 = size * (cos(pitch) * sin(roll) + cos(roll) * sin(pitch) * sin(yaw)) + tdy\n",
        "\n",
        "    # Y-Axis | drawn in green\n",
        "    #        v\n",
        "    x2 = size * (-cos(yaw) * sin(roll)) + tdx\n",
        "    y2 = size * (cos(pitch) * cos(roll) - sin(pitch) * sin(yaw) * sin(roll)) + tdy\n",
        "\n",
        "    # Z-Axis (out of the screen) drawn in blue\n",
        "    x3 = size * (sin(yaw)) + tdx\n",
        "    y3 = size * (-cos(yaw) * sin(pitch)) + tdy\n",
        "\n",
        "    cv2.line(img, (int(tdx), int(tdy)), (int(x1),int(y1)),(0,0,255),3)\n",
        "    cv2.line(img, (int(tdx), int(tdy)), (int(x2),int(y2)),(0,255,0),3)\n",
        "    cv2.line(img, (int(tdx), int(tdy)), (int(x3),int(y3)),(255,0,0),2)\n",
        "\n",
        "    return img"
      ]
    },
    {
      "cell_type": "markdown",
      "metadata": {
        "id": "WcciOYNSHd5V"
      },
      "source": [
        "###Testing the model on an image\n"
      ]
    },
    {
      "cell_type": "code",
      "execution_count": null,
      "metadata": {
        "colab": {
          "base_uri": "https://localhost:8080/",
          "height": 467
        },
        "id": "bHrG0CloHdoA",
        "outputId": "dbba09cc-af70-4f39-e996-dcc2df142531"
      },
      "outputs": [
        {
          "output_type": "display_data",
          "data": {
            "text/plain": [
              "<PIL.Image.Image image mode=RGB size=450x450 at 0x7FA0C4104710>"
            ],
            "image/png": "[encoded data removed]"
          },
          "metadata": {}
        }
      ],
      "source": [
        "# choosing random image from the testing data\n",
        "rand_image = 'image00429'\n",
        "# detecting face and extracting the points\n",
        "faceModule = mediapipe.solutions.face_mesh\n",
        "# loading image \n",
        "with faceModule.FaceMesh(static_image_mode=True) as faces:\n",
        "  # loading the image\n",
        "  image = cv2.imread('/content/AFLW2000/'+rand_image+'.jpg')\n",
        "  # processing the face to extract the landmark points (468 point) for each x,y,z\n",
        "  results = faces.process(cv2.cvtColor(image, cv2.COLOR_BGR2RGB))\n",
        "  if results.multi_face_landmarks != None: \n",
        "    # looping over the faces in the image\n",
        "    for face in results.multi_face_landmarks:\n",
        "        # initializing two lists to store the points for every face.\n",
        "        x_array = []\n",
        "        y_array = []\n",
        "        # looping over the 468 points of x and y\n",
        "        for landmark in face.landmark:\n",
        "            x = landmark.x\n",
        "            y = landmark.y\n",
        "            # note: the x and y values are scaled to the their width and height so we will get back their actual value in the image\n",
        "            shape = image.shape \n",
        "            relative_x = int(x * shape[1])\n",
        "            relative_y = int(y * shape[0])\n",
        "            #Xs of face\n",
        "            x_array.append(relative_x)\n",
        "            #Ys of face\n",
        "            y_array.append(relative_y)\n",
        "\n",
        "        # converting the x anx y to numpy arrays\n",
        "        x_array = np.array(x_array)\n",
        "        y_array = np.array(y_array)\n",
        "\n",
        "        # centering the points arround the 99th point \n",
        "        x_center = x_array - x_array[99]\n",
        "        y_center = y_array - y_array[99]\n",
        "\n",
        "        # computing the distance\n",
        "        distance = np.linalg.norm(np.array((x_array[10],y_array[10])) - np.array((x_array[171],y_array[171])),axis = 0)\n",
        "        x_norm = x_center / distance\n",
        "        y_norm = y_center / distance\n",
        "\n",
        "        # concatinating the x and y points to predict the labels (pitch,yaw,roll)\n",
        "        features = np.hstack([x_norm,y_norm]).reshape(1,-1)\n",
        "\n",
        "        # predicting the 3 angels to draw the axis on the image\n",
        "        pred_pitch = m_gs_svr_pitch_be.predict(features)\n",
        "        pred_yaw = m_gs_svr_yaw_be.predict(features)\n",
        "        pred_roll = m_gs_svr_roll_be.predict(features)\n",
        "        cv2_imshow(draw_axis(image,pred_pitch,pred_yaw,pred_roll,x_array[99],y_array[99]))"
      ]
    },
    {
      "cell_type": "markdown",
      "metadata": {
        "id": "41Q6_SkNY8Ye"
      },
      "source": [
        "### Test the model on a video"
      ]
    },
    {
      "cell_type": "code",
      "source": [
        "# loading the test video\n",
        "%%capture\n",
        "!git clone https://github.com/engmohamedmostafa2021/Head-Pose-Estimation"
      ],
      "metadata": {
        "id": "4EKh9G2s3X2v"
      },
      "execution_count": null,
      "outputs": []
    },
    {
      "cell_type": "code",
      "execution_count": null,
      "metadata": {
        "id": "gRJOqat5Y6Wn"
      },
      "outputs": [],
      "source": [
        "# Create a VideoCapture object and read from input file\n",
        "def Create_TestVideo(pitch_model,yaw_model,roll_model,path):\n",
        "  cap = cv2.VideoCapture(path)\n",
        "  width= int(cap.get(cv2.CAP_PROP_FRAME_WIDTH))\n",
        "  height= int(cap.get(cv2.CAP_PROP_FRAME_HEIGHT))\n",
        "\n",
        "  # Check if camera opened successfully\n",
        "  if (cap.isOpened()== False): \n",
        "      print(\"Error opening video file\")\n",
        "  #a list to store the frames of the video  \n",
        "  video_array = []\n",
        "  # Read until video is completed\n",
        "  while(cap.isOpened()):   \n",
        "    # Capture frame-by-frame\n",
        "      ret, frame = cap.read()\n",
        "      if ret == True:\n",
        "        # loading image \n",
        "        with faceModule.FaceMesh(static_image_mode=True) as faces:\n",
        "          # processing the face to extract the landmark points (468 point) for each x,y,z\n",
        "          results = faces.process(cv2.cvtColor(frame, cv2.COLOR_BGR2RGB))\n",
        "          if results.multi_face_landmarks != None: \n",
        "            # looping over the faces in the image\n",
        "            for face in results.multi_face_landmarks:\n",
        "                # initializing two lists to store the points for every face.\n",
        "                x_array = []\n",
        "                y_array = []\n",
        "                # looping over the 468 points of x and y\n",
        "                for landmark in face.landmark:\n",
        "                    x = landmark.x\n",
        "                    y = landmark.y\n",
        "                    # note: the x and y values are scaled to the their width and height so we will get back their actual value in the image\n",
        "                    shape = frame.shape \n",
        "                    relative_x = int(x * shape[1])\n",
        "                    relative_y = int(y * shape[0])\n",
        "                    #Xs of face\n",
        "                    x_array.append(relative_x)\n",
        "                    #Ys of face\n",
        "                    y_array.append(relative_y)\n",
        "\n",
        "                # converting the x anx y to numpy arrays\n",
        "                x_array = np.array(x_array)\n",
        "                y_array = np.array(y_array)\n",
        "\n",
        "                # centering the points arround the 99th point \n",
        "                x_center = x_array - x_array[99]\n",
        "                y_center = y_array - y_array[99]\n",
        "\n",
        "                # computing the distance\n",
        "                distance = np.linalg.norm(np.array((x_array[171],y_array[171])) - np.array((x_array[10],y_array[10])),axis = 0)\n",
        "                x_norm = x_center / distance\n",
        "                y_norm = y_center / distance\n",
        "\n",
        "                # concatinating the x and y points to predict the labels (pitch,yaw,roll)\n",
        "                features = np.hstack([x_norm,y_norm]).reshape(1,-1)\n",
        "\n",
        "                # predicting the 3 angels to draw the axis on the image\n",
        "                pred_pitch = pitch_model.predict(features)\n",
        "                pred_yaw = yaw_model.predict(features)\n",
        "                pred_roll = roll_model.predict(features)\n",
        "                draw_axis(frame,pred_pitch,pred_yaw,pred_roll,x_array[99],y_array[99])\n",
        "                # appending the result frames to the video_array list\n",
        "                video_array.append(frame)\n",
        "      else:\n",
        "        break\n",
        "  cap.release()  \n",
        "  # Closes all the frames\n",
        "  cv2.destroyAllWindows()\n",
        "  print(\"Number of Detected Frames = \",len(video_array))\n",
        "  # converting the frames to video\n",
        "  out = cv2.VideoWriter('out.mp4',cv2.VideoWriter_fourcc(*'DIVX'), 20, (width,height))\n",
        "  for i in range(len(video_array)):\n",
        "    out.write(video_array[i])\n",
        "  out.release()"
      ]
    },
    {
      "cell_type": "code",
      "execution_count": null,
      "metadata": {
        "colab": {
          "base_uri": "https://localhost:8080/"
        },
        "id": "6-LPxYFfbRlN",
        "outputId": "560e36b2-293f-473b-eaf7-e55a65df183b"
      },
      "outputs": [
        {
          "output_type": "stream",
          "name": "stdout",
          "text": [
            "Number of Detected Frames =  629\n"
          ]
        }
      ],
      "source": [
        "path = \"/content/Head-Pose-Estimation/Video_for_Project.mp4\" \n",
        "Create_TestVideo(m_gs_svr_pitch_be,m_gs_svr_yaw_be,m_gs_svr_roll_be,path)\n"
      ]
    },
    {
      "cell_type": "code",
      "execution_count": null,
      "metadata": {
        "colab": {
          "base_uri": "https://localhost:8080/",
          "height": 17
        },
        "id": "HI1v5fQibWzq",
        "outputId": "bed61799-9340-4ccd-daea-03e66bc5208f"
      },
      "outputs": [
        {
          "output_type": "display_data",
          "data": {
            "text/plain": [
              "<IPython.core.display.Javascript object>"
            ],
            "application/javascript": [
              "\n",
              "    async function download(id, filename, size) {\n",
              "      if (!google.colab.kernel.accessAllowed) {\n",
              "        return;\n",
              "      }\n",
              "      const div = document.createElement('div');\n",
              "      const label = document.createElement('label');\n",
              "      label.textContent = `Downloading \"${filename}\": `;\n",
              "      div.appendChild(label);\n",
              "      const progress = document.createElement('progress');\n",
              "      progress.max = size;\n",
              "      div.appendChild(progress);\n",
              "      document.body.appendChild(div);\n",
              "\n",
              "      const buffers = [];\n",
              "      let downloaded = 0;\n",
              "\n",
              "      const channel = await google.colab.kernel.comms.open(id);\n",
              "      // Send a message to notify the kernel that we're ready.\n",
              "      channel.send({})\n",
              "\n",
              "      for await (const message of channel.messages) {\n",
              "        // Send a message to notify the kernel that we're ready.\n",
              "        channel.send({})\n",
              "        if (message.buffers) {\n",
              "          for (const buffer of message.buffers) {\n",
              "            buffers.push(buffer);\n",
              "            downloaded += buffer.byteLength;\n",
              "            progress.value = downloaded;\n",
              "          }\n",
              "        }\n",
              "      }\n",
              "      const blob = new Blob(buffers, {type: 'application/binary'});\n",
              "      const a = document.createElement('a');\n",
              "      a.href = window.URL.createObjectURL(blob);\n",
              "      a.download = filename;\n",
              "      div.appendChild(a);\n",
              "      a.click();\n",
              "      div.remove();\n",
              "    }\n",
              "  "
            ]
          },
          "metadata": {}
        },
        {
          "output_type": "display_data",
          "data": {
            "text/plain": [
              "<IPython.core.display.Javascript object>"
            ],
            "application/javascript": [
              "download(\"download_8240ae67-555a-461a-8595-286115981f12\", \"out.mp4\", 4075291)"
            ]
          },
          "metadata": {}
        }
      ],
      "source": [
        "from google.colab import files\n",
        "files.download('/content/out.mp4')"
      ]
    },
    {
      "cell_type": "code",
      "source": [
        ""
      ],
      "metadata": {
        "id": "BkLvBL6My0mw"
      },
      "execution_count": null,
      "outputs": []
    }
  ],
  "metadata": {
    "accelerator": "GPU",
    "colab": {
      "collapsed_sections": [],
      "name": "Head Pose Estimation - Final  - Muhamed Mustafa.ipynb",
      "provenance": []
    },
    "gpuClass": "standard",
    "kernelspec": {
      "display_name": "Python 3",
      "name": "python3"
    },
    "language_info": {
      "name": "python"
    }
  },
  "nbformat": 4,
  "nbformat_minor": 0
}